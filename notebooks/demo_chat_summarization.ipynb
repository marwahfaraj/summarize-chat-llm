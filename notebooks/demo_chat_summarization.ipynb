{
 "cells": [
  {
   "cell_type": "code",
   "execution_count": null,
   "metadata": {},
   "outputs": [],
   "source": [
    "# Imports and setup\n",
    "import json\n",
    "from pathlib import Path\n",
    "from src.utils import load_api_key\n",
    "from src.summarizer import load_chat, format_chat, load_prompt, generate_summary\n",
    "\n",
    "# Load OpenAI API key\n",
    "import openai\n",
    "openai.api_key = load_api_key()\n"
   ]
  },
  {
   "cell_type": "code",
   "execution_count": null,
   "metadata": {},
   "outputs": [],
   "source": [
    "# Load and display a sample chat\n",
    "chat_path = Path(\"../data/sample_chat_1.json\")\n",
    "chat_data = load_chat(chat_path)\n",
    "chat_text = format_chat(chat_data)\n",
    "\n",
    "print(chat_text)\n"
   ]
  },
  {
   "cell_type": "code",
   "execution_count": null,
   "metadata": {},
   "outputs": [],
   "source": [
    "# Run baseline prompt\n",
    "baseline_prompt_path = Path(\"../prompts/baseline_prompt.txt\")\n",
    "baseline_prompt = load_prompt(baseline_prompt_path, chat_text)\n",
    "\n",
    "print(\"----- Baseline Prompt -----\\n\")\n",
    "print(baseline_prompt)\n",
    "\n",
    "baseline_summary = generate_summary(baseline_prompt)\n",
    "print(\"\\n----- Baseline Summary -----\\n\")\n",
    "print(baseline_summary)\n"
   ]
  },
  {
   "cell_type": "code",
   "execution_count": null,
   "metadata": {},
   "outputs": [],
   "source": [
    "# Cell 4: Run refined prompt\n",
    "refined_prompt_path = Path(\"../prompts/refined_prompt.txt\")\n",
    "refined_prompt = load_prompt(refined_prompt_path, chat_text)\n",
    "\n",
    "print(\"----- Refined Prompt -----\\n\")\n",
    "print(refined_prompt)\n",
    "\n",
    "refined_summary = generate_summary(refined_prompt)\n",
    "print(\"\\n----- Refined Summary -----\\n\")\n",
    "print(refined_summary)\n"
   ]
  },
  {
   "cell_type": "code",
   "execution_count": null,
   "metadata": {},
   "outputs": [],
   "source": [
    "# Cell 5: Compare both outputs side-by-side\n",
    "from IPython.display import Markdown, display\n",
    "\n",
    "display(Markdown(f\"### Baseline Summary:\\n{baseline_summary}\"))\n",
    "display(Markdown(f\"### Refined Summary:\\n{refined_summary}\"))\n"
   ]
  }
 ],
 "metadata": {
  "kernelspec": {
   "display_name": "Python 3 (my_env)",
   "language": "python",
   "name": "my_env"
  },
  "language_info": {
   "name": "python",
   "version": "3.10.9"
  }
 },
 "nbformat": 4,
 "nbformat_minor": 2
}
